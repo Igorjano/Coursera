{
 "cells": [
  {
   "cell_type": "markdown",
   "id": "f6a4446f-66b8-4934-a059-ca65f6d28cab",
   "metadata": {},
   "source": [
    "# Data Science Tools and Ecosystem"
   ]
  },
  {
   "cell_type": "markdown",
   "id": "be9c31b9-46f2-4cf4-8ca3-abc6d907267c",
   "metadata": {},
   "source": [
    "In this notebook, Data Science Tools and Ecosystem are summarized."
   ]
  },
  {
   "cell_type": "markdown",
   "id": "325eb8ea-ffb2-4700-99f3-429eb6cc8c5f",
   "metadata": {},
   "source": [
    "**Objectives:** \n",
    "\n",
    " List popular languages for Data Science\n",
    " * Python\n",
    " * Julia\n",
    " * SQL\n",
    " * Scala\n",
    " * C++\n",
    " \n",
    " "
   ]
  },
  {
   "cell_type": "markdown",
   "id": "133d6521-405f-47b7-98d0-548937828a4d",
   "metadata": {},
   "source": [
    "Some of the popular languages that Data Scientists use are:\n",
    "1. Python\n",
    "2. R\n",
    "3. Java"
   ]
  },
  {
   "cell_type": "markdown",
   "id": "7ec0fee0-04a2-4ed1-b30b-22076314edd2",
   "metadata": {},
   "source": [
    "Some of the commonly used libraries used by Data Scientists include:\n",
    "1. Pandas\n",
    "2. TensorFlow\n",
    "3. Matplotlib"
   ]
  },
  {
   "cell_type": "markdown",
   "id": "ca82556c-faa2-4cd9-8274-25c4ec009f2d",
   "metadata": {
    "jp-MarkdownHeadingCollapsed": true,
    "tags": []
   },
   "source": [
    "Data Science Tools|\n",
    "-\n",
    "Jupiter|\n",
    "Apache Zeppelin|\n",
    "RStudio|"
   ]
  },
  {
   "cell_type": "markdown",
   "id": "6ced2e09-14c5-4690-8727-d40811789ddb",
   "metadata": {},
   "source": [
    "### Below are a few examples of evaluating arithmetic expressions in Python"
   ]
  },
  {
   "cell_type": "code",
   "execution_count": 1,
   "id": "c9933591-53ce-44ec-b1d2-8fc33fe012de",
   "metadata": {
    "tags": []
   },
   "outputs": [
    {
     "data": {
      "text/plain": [
       "17"
      ]
     },
     "execution_count": 1,
     "metadata": {},
     "output_type": "execute_result"
    }
   ],
   "source": [
    "# This a simple arithmetic expression to mutiply then add integers\n",
    "(3*4)+5"
   ]
  },
  {
   "cell_type": "code",
   "execution_count": 5,
   "id": "bef28d11-715e-4a79-be32-39447d60e1ca",
   "metadata": {
    "tags": []
   },
   "outputs": [
    {
     "name": "stdout",
     "output_type": "stream",
     "text": [
      "200 minutes is 3.33 hours\n"
     ]
    }
   ],
   "source": [
    "# This will convert 200 minutes to hours by diving by 60\n",
    "minutes = 200\n",
    "hours = minutes / 60\n",
    "print(f'{minutes} minutes is {hours:.2f} hours')"
   ]
  },
  {
   "cell_type": "markdown",
   "id": "0557f06c-bc17-438c-b7b1-cd58f32eb547",
   "metadata": {},
   "source": [
    "## Author\n",
    "Igor Sychov"
   ]
  },
  {
   "cell_type": "code",
   "execution_count": null,
   "id": "ac39ef35-eac3-4c94-a84b-6706e8f54381",
   "metadata": {},
   "outputs": [],
   "source": []
  }
 ],
 "metadata": {
  "kernelspec": {
   "display_name": "Python",
   "language": "python",
   "name": "conda-env-python-py"
  },
  "language_info": {
   "codemirror_mode": {
    "name": "ipython",
    "version": 3
   },
   "file_extension": ".py",
   "mimetype": "text/x-python",
   "name": "python",
   "nbconvert_exporter": "python",
   "pygments_lexer": "ipython3",
   "version": "3.7.12"
  }
 },
 "nbformat": 4,
 "nbformat_minor": 5
}
